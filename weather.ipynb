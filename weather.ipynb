{
 "cells": [
  {
   "cell_type": "code",
   "execution_count": 2,
   "id": "1f6fa8fb",
   "metadata": {},
   "outputs": [],
   "source": [
    "from __future__ import annotations\n",
    "import numpy as np # linear algebra\n",
    "import pandas as pd # data processing, CSV file I/O (e.g. pd.read_csv)\n",
    "import xarray as xr\n",
    "import fsspec\n",
    "import s3fs\n",
    "from datetime import date, datetime\n",
    "from typing import Any, Dict, Iterable, List, Optional\n",
    "import asyncio\n",
    "from pathlib import Path\n",
    "import zarr"
   ]
  },
  {
   "cell_type": "code",
   "execution_count": 3,
   "id": "f5be5e40",
   "metadata": {},
   "outputs": [],
   "source": [
    "NASA_POWER_BASE = \"https://power.larc.nasa.gov/api/temporal/daily/point\"\n",
    "\n",
    "# Known daily Zarr roots (LST) for POWER ARD on AWS S3 (public/anonymous)\n",
    "SYN1DAILY_ZARR_HINT = (\n",
    "    \"https://nasa-power.s3.us-west-2.amazonaws.com/\"\n",
    "    \"syn1deg/temporal/power_syn1deg_daily_temporal_lst.zarr\"\n",
    ")\n",
    "MERRA2DAILY_ZARR_HINT = (\n",
    "    \"https://nasa-power.s3.us-west-2.amazonaws.com/\"\n",
    "    \"merra2/temporal/power_merra2_daily_temporal_lst.zarr\"\n",
    ")\n",
    "\n",
    "# Default variable sets\n",
    "SOLAR_VARS = [\"ALLSKY_SFC_SW_DWN\"]  # SRAD source (W m^-2) -> convert to MJ m^-2 d^-1\n",
    "MET_VARS = [\"T2M\", \"T2M_MAX\", \"T2M_MIN\", \"PRECTOTCORR\", \"T2MDEW\", \"WS2M\", \"RH2M\"]"
   ]
  },
  {
   "cell_type": "code",
   "execution_count": 4,
   "id": "328d55bc",
   "metadata": {},
   "outputs": [],
   "source": [
    "#helper functions\n",
    "\n",
    "#find the daily LST zarr under a given prefix\n",
    "def _discover_daily_zarr(prefix: str) -> str:\n",
    "    \"\"\"Discover a DAILY temporal LST Zarr under a given POWER product prefix.\n",
    "    prefix examples: \"nasa-power/syn1deg/temporal/\" or \"nasa-power/merra2/temporal/\"\n",
    "    Returns an HTTPS URL.\n",
    "    \"\"\"\n",
    "    fs = s3fs.S3FileSystem(anon=True)\n",
    "    keys = [p for p in fs.ls(prefix) if p.endswith(\".zarr\")]\n",
    "    # Prefer names containing daily + temporal + lst\n",
    "    for k in keys:\n",
    "        low = k.lower()\n",
    "        if (\"daily\" in low) and (\"temporal\" in low) and (\"lst\" in low):\n",
    "            # Strip leading bucket name when forming HTTPS URL\n",
    "            path = k.split(\"nasa-power/\", 1)[1]\n",
    "            return f\"https://nasa-power.s3.us-west-2.amazonaws.com/{path}\"\n",
    "    # Fallback: if nothing matches, raise\n",
    "    raise RuntimeError(f\"No DAILY LST Zarr found under {prefix}\")\n",
    "\n",
    "def _open_power_zarr(zarr_url: str) -> xr.Dataset:\n",
    "    store = fsspec.get_mapper(zarr_url)\n",
    "    return xr.open_zarr(store, consolidated=True)\n",
    "\n",
    "\n",
    "def _slice_point(ds: xr.Dataset,\n",
    "                 latitude: float,\n",
    "                 longitude: float,\n",
    "                 start_date: date,\n",
    "                 end_date: date,\n",
    "                 variables: Iterable[str]) -> xr.Dataset:\n",
    "    avail = [v for v in variables if v in ds.data_vars]\n",
    "    if not avail:\n",
    "        raise KeyError(\"None of the requested variables are present. Available examples: \"\n",
    "                       + \", \".join(list(ds.data_vars)[:25]))\n",
    "    sub = ds[avail].sel(lat=latitude, lon=longitude, method=\"nearest\").sel(\n",
    "        time=slice(datetime.combine(start_date, datetime.min.time()),\n",
    "                   datetime.combine(end_date, datetime.min.time()))\n",
    "    )\n",
    "    return sub"
   ]
  },
  {
   "cell_type": "code",
   "execution_count": 5,
   "id": "07f13c94",
   "metadata": {},
   "outputs": [],
   "source": [
    "async def get_power_s3_daily(latitude: float,\n",
    "                             longitude: float,\n",
    "                             start_date: date,\n",
    "                             end_date: date,\n",
    "                             include_srad: bool = True,\n",
    "                             include_met: bool = True,\n",
    "                             syn1_url: Optional[str] = None,\n",
    "                             merra2_url: Optional[str] = None):\n",
    "    \"\"\"Fetch daily data directly from POWER S3/Zarr (ARD), merging solar + meteorology.\n",
    "\n",
    "    - Solar SRAD comes from SYN1deg: ALLSKY_SFC_SW_DWN (W m^-2) -> SRAD = *0.0864 (MJ m^-2 d^-1)\n",
    "    - Meteorology (T2M_MAX, T2M_MIN, PRECTOTCORR, etc.) comes from MERRA-2.\n",
    "\n",
    "    Returns a dict with `records` (list of per-day dictionaries) and metadata.\n",
    "    \"\"\"\n",
    "    # Resolve URLs (try provided first; else discover; else fall back to hints)\n",
    "    def _resolve_syn1() -> str:\n",
    "        if syn1_url:\n",
    "            return syn1_url\n",
    "        try:\n",
    "            return _discover_daily_zarr(\"nasa-power/syn1deg/temporal/\")\n",
    "        except Exception:\n",
    "            return SYN1DAILY_ZARR_HINT\n",
    "\n",
    "    def _resolve_merra2() -> str:\n",
    "        if merra2_url:\n",
    "            return merra2_url\n",
    "        try:\n",
    "            return _discover_daily_zarr(\"nasa-power/merra2/temporal/\")\n",
    "        except Exception:\n",
    "            return MERRA2DAILY_ZARR_HINT\n",
    "\n",
    "    out: Dict[str, Any] = {\n",
    "        \"source\": \"s3-zarr\",\n",
    "        \"latitude\": latitude,\n",
    "        \"longitude\": longitude,\n",
    "        \"start\": start_date.isoformat(),\n",
    "        \"end\": end_date.isoformat(),\n",
    "    }\n",
    "    df = None\n",
    "    try:\n",
    "        # Open datasets (in threads to avoid blocking loop)\n",
    "        ds_sol = None\n",
    "        ds_met = None\n",
    "        if include_srad:\n",
    "            url_sol = _resolve_syn1()\n",
    "            ds_sol = await asyncio.to_thread(_open_power_zarr, url_sol)\n",
    "            out[\"syn1_url\"] = url_sol\n",
    "        if include_met:\n",
    "            url_met = _resolve_merra2()\n",
    "            ds_met = await asyncio.to_thread(_open_power_zarr, url_met)\n",
    "            out[\"merra2_url\"] = url_met\n",
    "\n",
    "        # Slice\n",
    "        \n",
    "        if ds_met is not None:\n",
    "            sub_met = await asyncio.to_thread(\n",
    "                _slice_point, ds_met, latitude, longitude, start_date, end_date, MET_VARS\n",
    "            )\n",
    "            df_met = sub_met.to_dataframe().reset_index().rename(\n",
    "                columns={\"T2M_MAX\": \"TMAX\", \"T2M_MIN\": \"TMIN\", \"PRECTOTCORR\": \"RAIN\"}\n",
    "            )\n",
    "            df = df_met\n",
    "        if ds_sol is not None:\n",
    "            sub_sol = await asyncio.to_thread(\n",
    "                _slice_point, ds_sol, latitude, longitude, start_date, end_date, SOLAR_VARS\n",
    "            )\n",
    "            df_sol = sub_sol.to_dataframe().reset_index().rename(\n",
    "                columns={\"ALLSKY_SFC_SW_DWN\": \"SRAD_WM2\"}\n",
    "            )\n",
    "            # Convert W/m^2 (mean power) to MJ/m^2/day\n",
    "            df_sol[\"SRAD\"] = df_sol[\"SRAD_WM2\"].astype(float) * 0.0864\n",
    "            df_sol = df_sol[[\"time\", \"SRAD\"]]\n",
    "            if df is None:\n",
    "                df = df_sol\n",
    "            else:\n",
    "                df = pd.merge(df, df_sol, on=\"time\", how=\"inner\")\n",
    "\n",
    "        if df is None:\n",
    "            return {**out, \"error\": \"No data sources selected: set include_srad and/or include_met.\"}\n",
    "    except Exception as e:\n",
    "        print(e)\n",
    "    return df"
   ]
  },
  {
   "cell_type": "code",
   "execution_count": 6,
   "id": "c3578b5f",
   "metadata": {},
   "outputs": [],
   "source": [
    "df = await get_power_s3_daily(\n",
    "        latitude=42.0,\n",
    "        longitude=-93.5,\n",
    "        start_date=date(2020, 1, 1),\n",
    "        end_date=date(2020, 3, 31),\n",
    "        include_srad=True,\n",
    "        include_met=True\n",
    "    )"
   ]
  },
  {
   "cell_type": "code",
   "execution_count": 7,
   "id": "da55f0e8",
   "metadata": {},
   "outputs": [],
   "source": [
    "df[\"date\"] = pd.to_datetime(df[\"time\"]).dt.strftime(\"%Y%m%d\")"
   ]
  },
  {
   "cell_type": "code",
   "execution_count": 8,
   "id": "55e858dc",
   "metadata": {},
   "outputs": [],
   "source": [
    "cols = [\"date\"] + [c for c in df.columns if c not in (\"time\", \"lat\", \"lon\", \"date\")]"
   ]
  },
  {
   "cell_type": "code",
   "execution_count": 9,
   "id": "543c7cd2",
   "metadata": {},
   "outputs": [],
   "source": [
    "for c in cols:\n",
    "    if c != \"date\":\n",
    "        try:\n",
    "            df[c] = df[c].astype(float).round(1)\n",
    "        except Exception:\n",
    "            pass"
   ]
  },
  {
   "cell_type": "code",
   "execution_count": 12,
   "id": "c9cbcef4",
   "metadata": {},
   "outputs": [],
   "source": [
    "latitude=42.0,\n",
    "longitude=-93.5\n",
    "start_date=date(2020, 1, 1)\n",
    "end_date=date(2020, 3, 31)"
   ]
  },
  {
   "cell_type": "code",
   "execution_count": 13,
   "id": "67e4cdf8",
   "metadata": {},
   "outputs": [],
   "source": [
    "out: Dict[str, Any] = {\n",
    "        \"source\": \"s3-zarr\",\n",
    "        \"latitude\": latitude,\n",
    "        \"longitude\": longitude,\n",
    "        \"start\": start_date.isoformat(),\n",
    "        \"end\": end_date.isoformat(),\n",
    "    }"
   ]
  },
  {
   "cell_type": "code",
   "execution_count": 14,
   "id": "d86cbe1d",
   "metadata": {},
   "outputs": [],
   "source": [
    "records = df[cols].to_dict(orient=\"records\")\n",
    "out[\"records\"] = records\n",
    "out[\"variables\"] = [c for c in cols if c != \"date\"]"
   ]
  },
  {
   "cell_type": "code",
   "execution_count": 15,
   "id": "190ffc87",
   "metadata": {},
   "outputs": [
    {
     "name": "stdout",
     "output_type": "stream",
     "text": [
      "{'source': 's3-zarr', 'latitude': (42.0,), 'longitude': -93.5, 'start': '2020-01-01', 'end': '2020-03-31', 'records': [{'date': '20200101', 'T2M': -1.2, 'TMAX': 4.9, 'TMIN': -7.1, 'RAIN': 0.4, 'T2MDEW': -2.4, 'WS2M': 4.1, 'RH2M': 91.7, 'SRAD': 4.6}, {'date': '20200102', 'T2M': 0.3, 'TMAX': 5.0, 'TMIN': -3.6, 'RAIN': 5.1, 'T2MDEW': -0.5, 'WS2M': 2.7, 'RH2M': 94.5, 'SRAD': 5.6}, {'date': '20200103', 'T2M': -1.2, 'TMAX': 2.2, 'TMIN': -3.8, 'RAIN': 2.3, 'T2MDEW': -2.2, 'WS2M': 3.3, 'RH2M': 93.5, 'SRAD': 2.7}, {'date': '20200104', 'T2M': -3.6, 'TMAX': 0.7, 'TMIN': -7.5, 'RAIN': 0.0, 'T2MDEW': -6.1, 'WS2M': 3.5, 'RH2M': 84.8, 'SRAD': 2.7}, {'date': '20200105', 'T2M': 0.2, 'TMAX': 5.0, 'TMIN': -3.7, 'RAIN': 0.0, 'T2MDEW': -2.5, 'WS2M': 6.0, 'RH2M': 83.5, 'SRAD': 7.4}, {'date': '20200106', 'T2M': -1.4, 'TMAX': 2.2, 'TMIN': -4.0, 'RAIN': 0.3, 'T2MDEW': -3.4, 'WS2M': 1.5, 'RH2M': 87.2, 'SRAD': 4.0}, {'date': '20200107', 'T2M': -2.9, 'TMAX': 3.0, 'TMIN': -7.4, 'RAIN': 0.0, 'T2MDEW': -5.5, 'WS2M': 3.6, 'RH2M': 84.3, 'SRAD': 6.5}, {'date': '20200108', 'T2M': -7.5, 'TMAX': -3.3, 'TMIN': -12.6, 'RAIN': 0.0, 'T2MDEW': -12.5, 'WS2M': 5.5, 'RH2M': 67.6, 'SRAD': 8.2}, {'date': '20200109', 'T2M': 2.5, 'TMAX': 10.5, 'TMIN': -2.8, 'RAIN': 0.0, 'T2MDEW': 1.0, 'WS2M': 5.9, 'RH2M': 90.4, 'SRAD': 5.8}, {'date': '20200110', 'T2M': -4.3, 'TMAX': -0.8, 'TMIN': -9.2, 'RAIN': 2.8, 'T2MDEW': -7.6, 'WS2M': 5.7, 'RH2M': 78.8, 'SRAD': 4.8}, {'date': '20200111', 'T2M': -10.4, 'TMAX': -6.7, 'TMIN': -13.1, 'RAIN': 0.1, 'T2MDEW': -13.5, 'WS2M': 4.9, 'RH2M': 79.1, 'SRAD': 7.5}, {'date': '20200112', 'T2M': -6.6, 'TMAX': -1.8, 'TMIN': -13.0, 'RAIN': 2.9, 'T2MDEW': -7.8, 'WS2M': 3.0, 'RH2M': 92.6, 'SRAD': 4.0}, {'date': '20200113', 'T2M': -3.2, 'TMAX': 0.1, 'TMIN': -7.5, 'RAIN': 1.1, 'T2MDEW': -4.1, 'WS2M': 3.8, 'RH2M': 94.7, 'SRAD': 2.0}, {'date': '20200114', 'T2M': -3.3, 'TMAX': -0.3, 'TMIN': -8.2, 'RAIN': 0.0, 'T2MDEW': -4.8, 'WS2M': 3.3, 'RH2M': 91.0, 'SRAD': 5.2}, {'date': '20200115', 'T2M': -6.5, 'TMAX': -1.9, 'TMIN': -15.4, 'RAIN': 0.2, 'T2MDEW': -8.6, 'WS2M': 5.0, 'RH2M': 86.7, 'SRAD': 6.3}, {'date': '20200116', 'T2M': -15.4, 'TMAX': -10.8, 'TMIN': -20.8, 'RAIN': 0.0, 'T2MDEW': -17.9, 'WS2M': 3.2, 'RH2M': 81.1, 'SRAD': 6.9}, {'date': '20200117', 'T2M': -7.9, 'TMAX': -3.6, 'TMIN': -15.1, 'RAIN': 12.4, 'T2MDEW': -9.0, 'WS2M': 6.0, 'RH2M': 94.5, 'SRAD': 7.4}, {'date': '20200118', 'T2M': -11.2, 'TMAX': -3.0, 'TMIN': -18.1, 'RAIN': 1.1, 'T2MDEW': -12.8, 'WS2M': 8.0, 'RH2M': 89.6, 'SRAD': 9.4}, {'date': '20200119', 'T2M': -17.1, 'TMAX': -14.0, 'TMIN': -19.8, 'RAIN': 0.0, 'T2MDEW': -18.4, 'WS2M': 5.0, 'RH2M': 90.0, 'SRAD': 3.6}, {'date': '20200120', 'T2M': -14.7, 'TMAX': -10.1, 'TMIN': -17.8, 'RAIN': 0.0, 'T2MDEW': -16.0, 'WS2M': 1.8, 'RH2M': 91.2, 'SRAD': 4.1}, {'date': '20200121', 'T2M': -12.9, 'TMAX': -7.0, 'TMIN': -20.0, 'RAIN': 0.0, 'T2MDEW': -13.6, 'WS2M': 4.0, 'RH2M': 96.3, 'SRAD': 6.4}, {'date': '20200122', 'T2M': -2.2, 'TMAX': -0.3, 'TMIN': -6.5, 'RAIN': 5.1, 'T2MDEW': -2.9, 'WS2M': 4.6, 'RH2M': 96.4, 'SRAD': 3.1}, {'date': '20200123', 'T2M': -2.1, 'TMAX': 0.5, 'TMIN': -4.4, 'RAIN': 0.9, 'T2MDEW': -2.7, 'WS2M': 1.8, 'RH2M': 96.9, 'SRAD': 2.2}, {'date': '20200124', 'T2M': -2.9, 'TMAX': -0.3, 'TMIN': -4.3, 'RAIN': 2.0, 'T2MDEW': -3.9, 'WS2M': 4.2, 'RH2M': 94.5, 'SRAD': 4.2}, {'date': '20200125', 'T2M': -6.0, 'TMAX': -0.4, 'TMIN': -11.0, 'RAIN': 0.0, 'T2MDEW': -7.0, 'WS2M': 3.2, 'RH2M': 94.3, 'SRAD': 7.5}, {'date': '20200126', 'T2M': -4.4, 'TMAX': 0.0, 'TMIN': -9.9, 'RAIN': 0.0, 'T2MDEW': -5.1, 'WS2M': 1.6, 'RH2M': 97.3, 'SRAD': 7.3}, {'date': '20200127', 'T2M': -3.6, 'TMAX': -0.1, 'TMIN': -6.8, 'RAIN': 0.0, 'T2MDEW': -4.7, 'WS2M': 2.0, 'RH2M': 94.4, 'SRAD': 7.8}, {'date': '20200128', 'T2M': -5.9, 'TMAX': -3.2, 'TMIN': -9.1, 'RAIN': 0.2, 'T2MDEW': -7.5, 'WS2M': 1.5, 'RH2M': 91.0, 'SRAD': 5.6}, {'date': '20200129', 'T2M': -5.0, 'TMAX': -2.3, 'TMIN': -7.0, 'RAIN': 0.8, 'T2MDEW': -6.7, 'WS2M': 1.0, 'RH2M': 90.0, 'SRAD': 5.2}, {'date': '20200130', 'T2M': -4.7, 'TMAX': -1.1, 'TMIN': -7.6, 'RAIN': 0.2, 'T2MDEW': -5.6, 'WS2M': 2.3, 'RH2M': 95.5, 'SRAD': 6.0}, {'date': '20200131', 'T2M': -2.8, 'TMAX': 0.8, 'TMIN': -5.4, 'RAIN': 1.1, 'T2MDEW': -3.4, 'WS2M': 2.3, 'RH2M': 96.8, 'SRAD': 8.1}, {'date': '20200201', 'T2M': -0.8, 'TMAX': 2.1, 'TMIN': -5.4, 'RAIN': 0.1, 'T2MDEW': -1.7, 'WS2M': 3.4, 'RH2M': 94.0, 'SRAD': 11.1}, {'date': '20200202', 'T2M': 2.5, 'TMAX': 9.1, 'TMIN': -2.2, 'RAIN': 0.0, 'T2MDEW': 1.3, 'WS2M': 3.8, 'RH2M': 90.8, 'SRAD': 6.7}, {'date': '20200203', 'T2M': -0.4, 'TMAX': 4.7, 'TMIN': -3.3, 'RAIN': 0.0, 'T2MDEW': -3.7, 'WS2M': 6.1, 'RH2M': 80.2, 'SRAD': 4.5}, {'date': '20200204', 'T2M': -4.6, 'TMAX': -1.5, 'TMIN': -7.8, 'RAIN': 0.0, 'T2MDEW': -10.0, 'WS2M': 6.0, 'RH2M': 66.9, 'SRAD': 11.6}, {'date': '20200205', 'T2M': -5.9, 'TMAX': -1.1, 'TMIN': -8.6, 'RAIN': 0.0, 'T2MDEW': -10.5, 'WS2M': 2.0, 'RH2M': 71.7, 'SRAD': 11.3}, {'date': '20200206', 'T2M': -4.7, 'TMAX': 0.7, 'TMIN': -9.8, 'RAIN': 0.0, 'T2MDEW': -10.4, 'WS2M': 1.4, 'RH2M': 64.9, 'SRAD': 13.1}, {'date': '20200207', 'T2M': -4.5, 'TMAX': -1.7, 'TMIN': -8.4, 'RAIN': 1.1, 'T2MDEW': -6.6, 'WS2M': 2.6, 'RH2M': 87.5, 'SRAD': 9.1}, {'date': '20200208', 'T2M': -6.2, 'TMAX': -0.6, 'TMIN': -11.2, 'RAIN': 0.0, 'T2MDEW': -9.4, 'WS2M': 2.8, 'RH2M': 80.6, 'SRAD': 13.4}, {'date': '20200209', 'T2M': -2.3, 'TMAX': 2.6, 'TMIN': -7.7, 'RAIN': 0.2, 'T2MDEW': -4.2, 'WS2M': 5.0, 'RH2M': 88.4, 'SRAD': 10.4}, {'date': '20200210', 'T2M': -4.6, 'TMAX': 2.2, 'TMIN': -9.2, 'RAIN': 0.0, 'T2MDEW': -6.8, 'WS2M': 2.1, 'RH2M': 87.8, 'SRAD': 13.6}, {'date': '20200211', 'T2M': -3.1, 'TMAX': 1.7, 'TMIN': -6.7, 'RAIN': 0.0, 'T2MDEW': -6.3, 'WS2M': 3.4, 'RH2M': 81.5, 'SRAD': 14.0}, {'date': '20200212', 'T2M': -3.2, 'TMAX': 1.5, 'TMIN': -12.8, 'RAIN': 1.3, 'T2MDEW': -5.5, 'WS2M': 5.5, 'RH2M': 85.0, 'SRAD': 12.4}, {'date': '20200213', 'T2M': -17.2, 'TMAX': -13.6, 'TMIN': -21.2, 'RAIN': 0.0, 'T2MDEW': -21.1, 'WS2M': 5.4, 'RH2M': 70.6, 'SRAD': 14.9}, {'date': '20200214', 'T2M': -12.8, 'TMAX': -5.3, 'TMIN': -20.1, 'RAIN': 0.0, 'T2MDEW': -16.0, 'WS2M': 4.7, 'RH2M': 79.2, 'SRAD': 14.8}, {'date': '20200215', 'T2M': -1.9, 'TMAX': 6.5, 'TMIN': -9.7, 'RAIN': 0.1, 'T2MDEW': -4.9, 'WS2M': 3.7, 'RH2M': 82.8, 'SRAD': 13.6}, {'date': '20200216', 'T2M': 0.8, 'TMAX': 7.1, 'TMIN': -3.2, 'RAIN': 0.1, 'T2MDEW': -2.2, 'WS2M': 2.5, 'RH2M': 81.8, 'SRAD': 12.6}, {'date': '20200217', 'T2M': 0.5, 'TMAX': 3.8, 'TMIN': -3.5, 'RAIN': 6.8, 'T2MDEW': -0.3, 'WS2M': 4.3, 'RH2M': 94.1, 'SRAD': 10.6}, {'date': '20200218', 'T2M': -2.9, 'TMAX': 2.2, 'TMIN': -8.2, 'RAIN': 0.0, 'T2MDEW': -7.0, 'WS2M': 4.9, 'RH2M': 74.5, 'SRAD': 12.0}, {'date': '20200219', 'T2M': -9.4, 'TMAX': -7.9, 'TMIN': -11.1, 'RAIN': 0.1, 'T2MDEW': -13.3, 'WS2M': 3.3, 'RH2M': 74.1, 'SRAD': 14.0}, {'date': '20200220', 'T2M': -10.9, 'TMAX': -4.6, 'TMIN': -17.0, 'RAIN': 0.0, 'T2MDEW': -14.7, 'WS2M': 2.1, 'RH2M': 76.6, 'SRAD': 15.7}, {'date': '20200221', 'T2M': -2.9, 'TMAX': 6.1, 'TMIN': -11.0, 'RAIN': 0.0, 'T2MDEW': -7.2, 'WS2M': 5.3, 'RH2M': 75.1, 'SRAD': 15.2}, {'date': '20200222', 'T2M': 1.3, 'TMAX': 9.6, 'TMIN': -5.0, 'RAIN': 0.1, 'T2MDEW': -1.0, 'WS2M': 4.1, 'RH2M': 86.4, 'SRAD': 14.2}, {'date': '20200223', 'T2M': 4.0, 'TMAX': 14.1, 'TMIN': -1.1, 'RAIN': 0.2, 'T2MDEW': 0.9, 'WS2M': 2.6, 'RH2M': 82.6, 'SRAD': 15.6}, {'date': '20200224', 'T2M': 0.7, 'TMAX': 4.9, 'TMIN': -2.4, 'RAIN': 0.0, 'T2MDEW': -3.2, 'WS2M': 3.9, 'RH2M': 77.0, 'SRAD': 14.1}, {'date': '20200225', 'T2M': 0.5, 'TMAX': 4.3, 'TMIN': -1.5, 'RAIN': 0.0, 'T2MDEW': -3.4, 'WS2M': 5.3, 'RH2M': 77.0, 'SRAD': 13.5}, {'date': '20200226', 'T2M': -1.8, 'TMAX': 1.5, 'TMIN': -4.6, 'RAIN': 0.0, 'T2MDEW': -6.6, 'WS2M': 4.5, 'RH2M': 72.3, 'SRAD': 15.5}, {'date': '20200227', 'T2M': -1.8, 'TMAX': 2.4, 'TMIN': -5.1, 'RAIN': 0.0, 'T2MDEW': -6.3, 'WS2M': 2.2, 'RH2M': 74.3, 'SRAD': 15.1}, {'date': '20200228', 'T2M': -1.3, 'TMAX': 2.4, 'TMIN': -4.7, 'RAIN': 0.0, 'T2MDEW': -5.0, 'WS2M': 3.3, 'RH2M': 77.6, 'SRAD': 9.4}, {'date': '20200229', 'T2M': 1.2, 'TMAX': 10.0, 'TMIN': -5.0, 'RAIN': 0.0, 'T2MDEW': -2.6, 'WS2M': 4.3, 'RH2M': 77.8, 'SRAD': 15.7}, {'date': '20200301', 'T2M': 4.4, 'TMAX': 11.6, 'TMIN': -1.4, 'RAIN': 0.0, 'T2MDEW': 2.0, 'WS2M': 3.5, 'RH2M': 85.4, 'SRAD': 13.5}, {'date': '20200302', 'T2M': 1.0, 'TMAX': 5.7, 'TMIN': -2.5, 'RAIN': 0.0, 'T2MDEW': -2.8, 'WS2M': 2.7, 'RH2M': 77.6, 'SRAD': 8.7}, {'date': '20200303', 'T2M': 4.4, 'TMAX': 10.7, 'TMIN': -0.3, 'RAIN': 0.4, 'T2MDEW': -1.4, 'WS2M': 4.6, 'RH2M': 69.1, 'SRAD': 17.2}, {'date': '20200304', 'T2M': 4.4, 'TMAX': 11.9, 'TMIN': -2.4, 'RAIN': 0.0, 'T2MDEW': 0.1, 'WS2M': 3.0, 'RH2M': 76.0, 'SRAD': 17.6}, {'date': '20200305', 'T2M': 3.3, 'TMAX': 8.6, 'TMIN': -1.9, 'RAIN': 0.0, 'T2MDEW': -1.4, 'WS2M': 7.8, 'RH2M': 73.7, 'SRAD': 8.6}, {'date': '20200306', 'T2M': 0.6, 'TMAX': 7.6, 'TMIN': -4.7, 'RAIN': 0.0, 'T2MDEW': -4.2, 'WS2M': 2.7, 'RH2M': 73.4, 'SRAD': 18.7}, {'date': '20200307', 'T2M': 7.2, 'TMAX': 17.0, 'TMIN': -1.6, 'RAIN': 0.0, 'T2MDEW': 1.0, 'WS2M': 6.2, 'RH2M': 67.5, 'SRAD': 17.4}, {'date': '20200308', 'T2M': 11.6, 'TMAX': 19.2, 'TMIN': 4.7, 'RAIN': 0.0, 'T2MDEW': 6.8, 'WS2M': 6.5, 'RH2M': 74.6, 'SRAD': 17.2}, {'date': '20200309', 'T2M': 4.3, 'TMAX': 11.0, 'TMIN': -2.6, 'RAIN': 8.3, 'T2MDEW': 3.3, 'WS2M': 4.2, 'RH2M': 92.7, 'SRAD': 3.9}, {'date': '20200310', 'T2M': 2.2, 'TMAX': 9.5, 'TMIN': -4.2, 'RAIN': 1.2, 'T2MDEW': -1.1, 'WS2M': 2.0, 'RH2M': 81.7, 'SRAD': 15.5}, {'date': '20200311', 'T2M': 5.4, 'TMAX': 13.0, 'TMIN': -0.8, 'RAIN': 0.0, 'T2MDEW': 1.8, 'WS2M': 2.0, 'RH2M': 79.8, 'SRAD': 16.3}, {'date': '20200312', 'T2M': 8.0, 'TMAX': 15.6, 'TMIN': 0.2, 'RAIN': 0.2, 'T2MDEW': 3.7, 'WS2M': 6.3, 'RH2M': 75.5, 'SRAD': 11.4}, {'date': '20200313', 'T2M': 2.4, 'TMAX': 9.2, 'TMIN': -4.0, 'RAIN': 0.0, 'T2MDEW': -3.9, 'WS2M': 3.1, 'RH2M': 66.6, 'SRAD': 18.6}, {'date': '20200314', 'T2M': -0.4, 'TMAX': 2.7, 'TMIN': -3.2, 'RAIN': 2.7, 'T2MDEW': -3.2, 'WS2M': 3.4, 'RH2M': 82.5, 'SRAD': 6.6}, {'date': '20200315', 'T2M': 0.5, 'TMAX': 5.9, 'TMIN': -4.2, 'RAIN': 0.2, 'T2MDEW': -3.0, 'WS2M': 2.7, 'RH2M': 80.1, 'SRAD': 14.0}, {'date': '20200316', 'T2M': 2.5, 'TMAX': 7.3, 'TMIN': -1.5, 'RAIN': 0.1, 'T2MDEW': 0.0, 'WS2M': 2.4, 'RH2M': 85.2, 'SRAD': 6.9}, {'date': '20200317', 'T2M': 2.9, 'TMAX': 8.7, 'TMIN': -4.0, 'RAIN': 0.1, 'T2MDEW': -1.4, 'WS2M': 2.0, 'RH2M': 76.6, 'SRAD': 17.8}, {'date': '20200318', 'T2M': 6.0, 'TMAX': 11.7, 'TMIN': 1.8, 'RAIN': 21.3, 'T2MDEW': 4.7, 'WS2M': 2.4, 'RH2M': 91.5, 'SRAD': 5.1}, {'date': '20200319', 'T2M': 8.3, 'TMAX': 16.9, 'TMIN': 0.9, 'RAIN': 25.2, 'T2MDEW': 7.1, 'WS2M': 4.2, 'RH2M': 92.3, 'SRAD': 2.7}, {'date': '20200320', 'T2M': -3.5, 'TMAX': 0.9, 'TMIN': -7.7, 'RAIN': 0.7, 'T2MDEW': -7.1, 'WS2M': 5.7, 'RH2M': 77.4, 'SRAD': 17.4}, {'date': '20200321', 'T2M': -1.4, 'TMAX': 4.7, 'TMIN': -7.2, 'RAIN': 0.0, 'T2MDEW': -5.2, 'WS2M': 2.2, 'RH2M': 77.5, 'SRAD': 15.5}, {'date': '20200322', 'T2M': -0.2, 'TMAX': 4.3, 'TMIN': -4.2, 'RAIN': 0.8, 'T2MDEW': -2.1, 'WS2M': 4.2, 'RH2M': 88.3, 'SRAD': 11.3}, {'date': '20200323', 'T2M': 4.2, 'TMAX': 9.0, 'TMIN': -0.0, 'RAIN': 0.1, 'T2MDEW': 2.5, 'WS2M': 1.5, 'RH2M': 89.4, 'SRAD': 5.3}, {'date': '20200324', 'T2M': 5.5, 'TMAX': 10.3, 'TMIN': 2.7, 'RAIN': 0.0, 'T2MDEW': 4.1, 'WS2M': 3.3, 'RH2M': 90.5, 'SRAD': 8.7}, {'date': '20200325', 'T2M': 7.7, 'TMAX': 13.1, 'TMIN': 3.9, 'RAIN': 0.2, 'T2MDEW': 6.3, 'WS2M': 3.2, 'RH2M': 91.3, 'SRAD': 5.0}, {'date': '20200326', 'T2M': 7.5, 'TMAX': 13.3, 'TMIN': 2.3, 'RAIN': 0.0, 'T2MDEW': 4.9, 'WS2M': 3.6, 'RH2M': 84.8, 'SRAD': 10.7}, {'date': '20200327', 'T2M': 7.0, 'TMAX': 9.3, 'TMIN': 4.8, 'RAIN': 2.3, 'T2MDEW': 6.0, 'WS2M': 3.4, 'RH2M': 92.9, 'SRAD': 6.6}, {'date': '20200328', 'T2M': 10.1, 'TMAX': 20.7, 'TMIN': 5.2, 'RAIN': 3.8, 'T2MDEW': 7.3, 'WS2M': 5.1, 'RH2M': 84.7, 'SRAD': 5.6}, {'date': '20200329', 'T2M': 7.1, 'TMAX': 13.7, 'TMIN': 1.8, 'RAIN': 0.7, 'T2MDEW': 0.8, 'WS2M': 7.8, 'RH2M': 66.7, 'SRAD': 15.4}, {'date': '20200330', 'T2M': 7.4, 'TMAX': 16.7, 'TMIN': -2.0, 'RAIN': 0.0, 'T2MDEW': -0.3, 'WS2M': 2.1, 'RH2M': 63.2, 'SRAD': 23.7}, {'date': '20200331', 'T2M': 7.2, 'TMAX': 14.1, 'TMIN': 1.0, 'RAIN': 0.0, 'T2MDEW': 2.0, 'WS2M': 2.9, 'RH2M': 72.9, 'SRAD': 22.8}], 'variables': ['T2M', 'TMAX', 'TMIN', 'RAIN', 'T2MDEW', 'WS2M', 'RH2M', 'SRAD']}\n"
     ]
    }
   ],
   "source": [
    "print(out)"
   ]
  }
 ],
 "metadata": {
  "kernelspec": {
   "display_name": "env",
   "language": "python",
   "name": "python3"
  },
  "language_info": {
   "codemirror_mode": {
    "name": "ipython",
    "version": 3
   },
   "file_extension": ".py",
   "mimetype": "text/x-python",
   "name": "python",
   "nbconvert_exporter": "python",
   "pygments_lexer": "ipython3",
   "version": "3.11.5"
  }
 },
 "nbformat": 4,
 "nbformat_minor": 5
}
