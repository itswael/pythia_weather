{
 "cells": [
  {
   "cell_type": "code",
   "execution_count": 6,
   "id": "83af12c3",
   "metadata": {},
   "outputs": [
    {
     "name": "stdout",
     "output_type": "stream",
     "text": [
      "✅ Using ETOPO1 file: etopo180_8571_f367_229e.nc\n",
      "Dataset variables: ['altitude']\n",
      "Dataset coordinates: ['latitude', 'longitude']\n",
      "Elevation variable coordinates: ['latitude', 'longitude']\n",
      "🔁 Reprojecting / averaging to MERRA-2 grid...\n",
      "✅ Saved WELEV file: welev_merra2_grid_1.nc\n",
      "✅ Saved WELEV file: welev_merra2_grid_1.nc\n"
     ]
    }
   ],
   "source": [
    "import xarray as xr\n",
    "import numpy as np\n",
    "import rioxarray\n",
    "import os\n",
    "from rasterio.enums import Resampling\n",
    "\n",
    "# 1. Use the downloaded ETOPO1 file\n",
    "etopo_file = \"etopo180_8571_f367_229e.nc\"\n",
    "\n",
    "if not os.path.exists(etopo_file):\n",
    "    raise FileNotFoundError(f\"ETOPO1 file not found: {etopo_file}\")\n",
    "\n",
    "print(f\"✅ Using ETOPO1 file: {etopo_file}\")\n",
    "\n",
    "# 2. Open and prepare dataset\n",
    "ds = xr.open_dataset(etopo_file, engine=\"netcdf4\")\n",
    "print(f\"Dataset variables: {list(ds.data_vars)}\")\n",
    "print(f\"Dataset coordinates: {list(ds.coords)}\")\n",
    "\n",
    "if \"altitude\" in ds.data_vars:\n",
    "    elev = ds[\"altitude\"]\n",
    "elif \"z\" in ds.data_vars:\n",
    "    elev = ds[\"z\"]\n",
    "else:\n",
    "    elev = ds[list(ds.data_vars)[0]]\n",
    "\n",
    "# Check current coordinate names\n",
    "print(f\"Elevation variable coordinates: {list(elev.coords)}\")\n",
    "\n",
    "# Rename to standard names if needed\n",
    "coord_mapping = {}\n",
    "if \"latitude\" in elev.coords:\n",
    "    coord_mapping[\"latitude\"] = \"lat\"\n",
    "if \"longitude\" in elev.coords:\n",
    "    coord_mapping[\"longitude\"] = \"lon\"\n",
    "\n",
    "if coord_mapping:\n",
    "    elev = elev.rename(coord_mapping)\n",
    "\n",
    "# Set CRS and spatial dimensions\n",
    "elev = elev.rio.write_crs(\"EPSG:4326\")\n",
    "elev = elev.rio.set_spatial_dims(x_dim=\"lon\", y_dim=\"lat\")\n",
    "\n",
    "# 3. Define target NASA POWER / MERRA-2 grid\n",
    "lats = np.arange(-90 + 0.25, 90, 0.1)\n",
    "lons = np.arange(-180 + 0.3125, 180, 0.1)\n",
    "template_ds = xr.Dataset(coords={\"lat\": lats, \"lon\": lons})\n",
    "template_ds = template_ds.rio.write_crs(\"EPSG:4326\")\n",
    "template_ds = template_ds.rio.set_spatial_dims(x_dim=\"lon\", y_dim=\"lat\")\n",
    "\n",
    "# 4. Reproject / resample with mean aggregation\n",
    "print(\"🔁 Reprojecting / averaging to MERRA-2 grid...\")\n",
    "elev_coarse = elev.rio.reproject_match(template_ds, resampling=Resampling.average)\n",
    "\n",
    "# 5. Build final dataset & save WELEV\n",
    "welev = elev_coarse\n",
    "welev.attrs[\"units\"] = \"m\"\n",
    "welev.attrs[\"long_name\"] = \"Mean elevation (m)\"\n",
    "welev.attrs[\"description\"] = \"From ETOPO1 (ice surface) averaged to 0.1° × 0.1° grid via ERDDAP source\"\n",
    "\n",
    "ds_out = xr.Dataset({\"WELEV\": welev})\n",
    "ds_out.attrs.update({\n",
    "    \"title\": \"Global WELEV (mean elevation) on NASA POWER / MERRA-2 grid\",\n",
    "    \"source\": \"ETOPO1 via NOAA ERDDAP\",\n",
    "    \"grid_resolution\": \"0.1° × 0.1°\"\n",
    "})\n",
    "\n",
    "out_file = \"welev_merra2_grid_1.nc\"\n",
    "ds_out.to_netcdf(out_file)\n",
    "print(f\"✅ Saved WELEV file: {out_file}\")"
   ]
  }
 ],
 "metadata": {
  "kernelspec": {
   "display_name": "env",
   "language": "python",
   "name": "python3"
  },
  "language_info": {
   "codemirror_mode": {
    "name": "ipython",
    "version": 3
   },
   "file_extension": ".py",
   "mimetype": "text/x-python",
   "name": "python",
   "nbconvert_exporter": "python",
   "pygments_lexer": "ipython3",
   "version": "3.11.5"
  }
 },
 "nbformat": 4,
 "nbformat_minor": 5
}
